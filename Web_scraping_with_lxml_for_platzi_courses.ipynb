{
  "cells": [
    {
      "cell_type": "markdown",
      "metadata": {
        "id": "eHAjVKket-IK"
      },
      "source": [
        "#Dependencias:"
      ]
    },
    {
      "cell_type": "code",
      "execution_count": 139,
      "metadata": {
        "id": "l2wXh04stRN0"
      },
      "outputs": [],
      "source": [
        "#from bs4 import BeautifulSoup\n",
        "import requests\n",
        "import pandas as pd\n",
        "import lxml.html as html\n",
        "import os\n",
        "import datetime\n",
        "\n",
        "curso_URL=\"https://platzi.com/cursos/scrapy/\"\n",
        "xpath_tittle='//h1[@class=\"Hero-content-title\"]/text()'\n",
        "xpath_modulos='//div[@class=\"Content-wrapper u-wrapper\"]//div[@class=\"ContentBlock-head\"]/h3/text()'\n",
        "xpath_clases='//div[@class=\"ContentBlock-head\"]/h5/text()'\n",
        "xpath_clases_bymodule='//div[@class=\"Content-wrapper u-wrapper\"]//div[@class=\"ContentBlock\" and position()=3]//span[@class=\"ContentClass-content-title\"]/text()'\n"
      ]
    },
    {
      "cell_type": "markdown",
      "metadata": {
        "id": "c82-KdGquEK8"
      },
      "source": [
        "#Codigo"
      ]
    },
    {
      "cell_type": "code",
      "execution_count": 140,
      "metadata": {
        "colab": {
          "base_uri": "https://localhost:8080/"
        },
        "id": "z3A5Ug77ZeqL",
        "outputId": "937d4768-6684-4513-b01b-d090e1d5a724"
      },
      "outputs": [
        {
          "data": {
            "text/plain": [
              "200"
            ]
          },
          "execution_count": 140,
          "metadata": {},
          "output_type": "execute_result"
        }
      ],
      "source": [
        "response=requests.get(curso_URL)\n",
        "response.status_code"
      ]
    },
    {
      "cell_type": "code",
      "execution_count": 141,
      "metadata": {
        "colab": {
          "base_uri": "https://localhost:8080/"
        },
        "id": "xVgZblVPaC7v",
        "outputId": "2fdf7558-9405-42f0-b8ff-6258ca6bfa7b"
      },
      "outputs": [
        {
          "data": {
            "text/plain": [
              "<Element html at 0x7f026529bcb0>"
            ]
          },
          "execution_count": 141,
          "metadata": {},
          "output_type": "execute_result"
        }
      ],
      "source": [
        "home=html.fromstring(response.content.decode(\"utf-8\"))\n",
        "home"
      ]
    },
    {
      "cell_type": "markdown",
      "metadata": {
        "id": "WXPzVIjHzELN"
      },
      "source": [
        "Captura el titulo del curso"
      ]
    },
    {
      "cell_type": "code",
      "execution_count": 142,
      "metadata": {
        "colab": {
          "base_uri": "https://localhost:8080/",
          "height": 35
        },
        "id": "sWgFs2hTauCi",
        "outputId": "28e80586-e1a3-45c4-889f-c593587ea779"
      },
      "outputs": [
        {
          "data": {
            "application/vnd.google.colaboratory.intrinsic+json": {
              "type": "string"
            },
            "text/plain": [
              "'Curso de Scrapy'"
            ]
          },
          "execution_count": 142,
          "metadata": {},
          "output_type": "execute_result"
        }
      ],
      "source": [
        "course_tittle=home.xpath(xpath_tittle)[0]\n",
        "course_tittle"
      ]
    },
    {
      "cell_type": "markdown",
      "metadata": {
        "id": "eHNAyrG3GIvq"
      },
      "source": [
        "Captura de los modulos del curso"
      ]
    },
    {
      "cell_type": "code",
      "execution_count": 146,
      "metadata": {
        "colab": {
          "base_uri": "https://localhost:8080/"
        },
        "id": "aTt13sKcGNBs",
        "outputId": "0620a47a-39dd-4352-bea7-7e18b720dc17"
      },
      "outputs": [
        {
          "data": {
            "text/plain": [
              "['Scrapy: el framework estrella',\n",
              " 'Trabajando con Scrapy',\n",
              " 'Proyecto: Platzi Intelligence Agency',\n",
              " 'Conclusiones']"
            ]
          },
          "execution_count": 146,
          "metadata": {},
          "output_type": "execute_result"
        }
      ],
      "source": [
        "course_modules=home.xpath(xpath_modulos)\n",
        "course_modules"
      ]
    },
    {
      "cell_type": "markdown",
      "metadata": {
        "id": "JCf0NjkBTTqw"
      },
      "source": [
        "Crear documento md"
      ]
    },
    {
      "cell_type": "code",
      "execution_count": 147,
      "metadata": {
        "id": "90c0105idw-h"
      },
      "outputs": [],
      "source": [
        "if not os.path.isdir(\"notes\"):\n",
        "  os.mkdir(\"notes\")\n",
        "with open(f\"notes/notes_{course_tittle}.md\", \"w\", encoding=\"utf-8\") as note:\n",
        "  note.write(f\"# {course_tittle}\")\n",
        "  note.write(f\"\\n\")\n",
        "  for module in range(len(course_modules)):  \n",
        "    note.write(f\"## module {module+1} {course_modules[module]}\")\n",
        "    note.write(f\"\\n\")\n",
        "    xpath_clases_bymodule=f'//div[@class=\"Content-wrapper u-wrapper\"]//div[@class=\"ContentBlock\" and position()={module+1}]//span[@class=\"ContentClass-content-title\"]/text()'\n",
        "    module_classes=home.xpath(xpath_clases_bymodule)\n",
        "    for lesson in module_classes:\n",
        "      note.write(f\"### clase{module_classes.index(lesson)+1} {lesson}\")\n",
        "      note.write(f\"\\n\")"
      ]
    }
  ],
  "metadata": {
    "colab": {
      "collapsed_sections": [],
      "name": "Web scraping with lxml for platzi courses",
      "provenance": []
    },
    "kernelspec": {
      "display_name": "Python 3",
      "name": "python3"
    },
    "language_info": {
      "name": "python"
    }
  },
  "nbformat": 4,
  "nbformat_minor": 0
}
